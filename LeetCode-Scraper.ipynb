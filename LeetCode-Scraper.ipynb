{
 "cells": [
  {
   "cell_type": "code",
   "execution_count": 1,
   "metadata": {},
   "outputs": [],
   "source": [
    "import pandas as pd\n",
    "import time,csv,sys,pytz,os\n",
    "from pathlib import Path\n",
    "from selenium import webdriver\n",
    "from selenium.webdriver.common.keys import Keys\n",
    "from selenium.webdriver.common.by import By\n",
    "from selenium.webdriver.support import expected_conditions as EC\n",
    "from selenium.webdriver.support.ui import Select,WebDriverWait\n",
    "import numpy as np\n",
    "from datetime import date,datetime,timedelta"
   ]
  },
  {
   "cell_type": "code",
   "execution_count": 2,
   "metadata": {
    "tags": []
   },
   "outputs": [],
   "source": [
    "%load_ext dotenv\n",
    "%dotenv"
   ]
  },
  {
   "cell_type": "code",
   "execution_count": 3,
   "metadata": {},
   "outputs": [],
   "source": [
    "def logTime(startTime, currentTime):\n",
    "    endTime = time.time()\n",
    "    currentTime = currentTime or endTime\n",
    "    hours, rem = divmod(endTime-currentTime, 3600)\n",
    "    minutes, seconds = divmod(rem, 60)\n",
    "    print(\"[Duration:{:0>2}:{:0>2}:{:05.2f}, \".format(int(hours),int(minutes),int(seconds)), end='')\n",
    "    hours, rem = divmod(endTime-startTime, 3600)\n",
    "    minutes, seconds = divmod(rem, 60)\n",
    "    print(\"Total:{:0>2}:{:0>2}:{:05.2f}] \".format(int(hours),int(minutes),seconds), end='')\n",
    "    return endTime"
   ]
  },
  {
   "cell_type": "code",
   "execution_count": 4,
   "metadata": {},
   "outputs": [],
   "source": [
    "def export(df, name, path = ''):\n",
    "    now = lambda: datetime.now().astimezone().isoformat(timespec='seconds').replace('-','').replace(':','')\n",
    "    fullPath = 'Scraped-Data/' + path\n",
    "    Path(fullPath).mkdir(parents=True, exist_ok=True)\n",
    "    df.to_csv(fullPath + '/' + name + '-' + now() + '.csv')"
   ]
  },
  {
   "cell_type": "code",
   "execution_count": 5,
   "metadata": {},
   "outputs": [],
   "source": [
    "def login():\n",
    "    url = 'https://leetcode.com/accounts/login'\n",
    "    driver.get(url)\n",
    "    WebDriverWait(driver, timeout=15).until_not(lambda x: x.find_element_by_class_name(\"spinner\").is_displayed())\n",
    "    try:\n",
    "        emailInput = driver.find_element_by_id('id_login')\n",
    "        passwordInput = driver.find_element_by_id('id_password')\n",
    "        loginButton = driver.find_element_by_id('signin_btn')\n",
    "        emailInput.send_keys(os.getenv('LEETCODE_USERNAME'))\n",
    "        passwordInput.send_keys(os.getenv('LEETCODE_PASSWORD'))\n",
    "        loginButton.click()\n",
    "    except:\n",
    "        pass\n",
    "    finally:\n",
    "        WebDriverWait(driver, timeout=5).until(lambda x: x.find_element_by_class_name(\"trending-topic-container\").is_displayed())"
   ]
  },
  {
   "cell_type": "code",
   "execution_count": 6,
   "metadata": {},
   "outputs": [],
   "source": [
    "def openAndExportAllProblems():\n",
    "    url = 'https://leetcode.com/problemset/all/'\n",
    "    driver.get(url)\n",
    "    WebDriverWait(driver, timeout=5).until(lambda x: x.find_element_by_tag_name(\"select\").is_displayed())\n",
    "    select = Select(driver.find_element_by_tag_name(\"select\"))\n",
    "    selectLen = len(select.options)\n",
    "    select.select_by_index(selectLen-1)\n",
    "    script = '''\n",
    "const rows = document.getElementsByClassName('reactable-data')[0].children;\n",
    "const problems = [];\n",
    "for (const row of rows) {\n",
    "  const problem = [], cols = row.children;\n",
    "  const frequency = parseFloat(row.getElementsByClassName('progress-bar')[0].style.width);\n",
    "  const link = cols[2].querySelector('a').href;\n",
    "  problem.push(cols[1].innerText.trim());\n",
    "  problem.push(cols[2].innerText.trim());\n",
    "  problem.push(cols[4].innerText.trim());\n",
    "  problem.push(cols[5].innerText.trim());\n",
    "  problem.push(frequency);\n",
    "  problem.push(link);\n",
    "  problems.push(problem);\n",
    "}\n",
    "return problems\n",
    "    '''\n",
    "    problemsData = driver.execute_script(script)\n",
    "    problems = pd.DataFrame(problemsData, columns = ['Id','Title','Acceptance','Difficulty','Frequency','Link'])\n",
    "    problems = problems.set_index('Id')\n",
    "    export(problems, 'Problems')\n",
    "    print(\"Exported %d Problems (100%%)\" % len(problems))\n",
    "    return problems"
   ]
  },
  {
   "cell_type": "code",
   "execution_count": 7,
   "metadata": {},
   "outputs": [],
   "source": [
    "def getProblemsByTitle():\n",
    "    return allProblems.reset_index().set_index('Title')"
   ]
  },
  {
   "cell_type": "code",
   "execution_count": 8,
   "metadata": {},
   "outputs": [],
   "source": [
    "def openAndExportAllCompanies():\n",
    "    url = 'https://leetcode.com/problemset/all/'\n",
    "    driver.get(url)\n",
    "    WebDriverWait(driver, timeout=5).until(lambda x: x.find_element_by_tag_name(\"select\").is_displayed())\n",
    "    driver.find_element_by_css_selector('#expand-company .btn').click()\n",
    "    script = '''\n",
    "const buttons = document.getElementById('current-company-tags').children;\n",
    "const companies = [];\n",
    "for (const button of buttons) {\n",
    "  const company = [];\n",
    "  company.push(button.firstElementChild.innerText.trim());\n",
    "  company.push(button.firstElementChild.nextElementSibling.innerText.trim());\n",
    "  company.push(button.href);\n",
    "  companies.push(company);\n",
    "}\n",
    "return companies\n",
    "    '''\n",
    "    companiesData = driver.execute_script(script)\n",
    "    companies = pd.DataFrame(companiesData, columns = ['Name','Count','Link'])\n",
    "    companies.index = companies.index + 1\n",
    "    companies.index.name = 'Serial'\n",
    "    export(companies, 'Companies')\n",
    "    print(\"Exported %d Companies (100%%)\" % len(companies))\n",
    "    return companies"
   ]
  },
  {
   "cell_type": "code",
   "execution_count": 9,
   "metadata": {},
   "outputs": [],
   "source": [
    "def getFirstOption():\n",
    "    driver.find_element_by_id('react-select-2--value-item').click()\n",
    "    firstOption = driver.execute_script(\"return (4-document.querySelectorAll('#react-select-2--list div[role=option]').length);\")\n",
    "    driver.find_element_by_id('react-select-2--value-item').click()\n",
    "    return firstOption"
   ]
  },
  {
   "cell_type": "code",
   "execution_count": 10,
   "metadata": {},
   "outputs": [],
   "source": [
    "def selectOption(n):\n",
    "    driver.find_element_by_id('react-select-2--value-item').click()\n",
    "    driver.find_element_by_id('react-select-2--option-' + str(n)).click()"
   ]
  },
  {
   "cell_type": "code",
   "execution_count": 11,
   "metadata": {},
   "outputs": [],
   "source": [
    "def getCompanyProblems():\n",
    "    script = '''\n",
    "const rows = document.getElementsByClassName('reactable-data')[0].children;\n",
    "const problems = [];\n",
    "for (const row of rows) {\n",
    "    const problem = [], cols = row.children;\n",
    "    const tags = Array.from(cols[3].querySelectorAll('a')).map(t => t.innerText.trim()).join(', ');\n",
    "    const frequency = parseFloat(row.getElementsByClassName('progress-bar')[0].style.width);\n",
    "    const link = cols[2].querySelector('a').href;\n",
    "    problem.push(cols[1].innerText.trim());\n",
    "    problem.push(cols[2].innerText.trim());\n",
    "    problem.push(tags);\n",
    "    problem.push(cols[4].innerText.trim());\n",
    "    problem.push(cols[5].innerText.trim());\n",
    "    problem.push(frequency);\n",
    "    problem.push(link);\n",
    "    problems.push(problem);\n",
    "}\n",
    "return problems\n",
    "    '''\n",
    "    companyProblemsData = driver.execute_script(script)\n",
    "    companyProblems = pd.DataFrame(companyProblemsData, columns = ['Id','Title','Tags','Acceptance','Difficulty','Frequency','Link'])\n",
    "    companyProblems = companyProblems.set_index('Id')\n",
    "    return companyProblems"
   ]
  },
  {
   "cell_type": "code",
   "execution_count": 12,
   "metadata": {},
   "outputs": [],
   "source": [
    "def openAndExportAllCompanyProblems():\n",
    "    startTime = time.time()\n",
    "    currentTime = startTime\n",
    "    optionNames = ['6_months', '1_year', '2_years', 'All_time']\n",
    "    optionTotalCount = len(optionNames)\n",
    "    companiesCount = len(allCompanies)\n",
    "    currentTime = logTime(startTime, currentTime); print(\"Total Companies: %d\" % companiesCount)\n",
    "    for i in range(companiesCount):\n",
    "        company = allCompanies.iloc[i]\n",
    "        companyName = company['Name'].replace(' ','_')\n",
    "        currentTime = logTime(startTime, currentTime); print(\"Processing %s (%d/%d) (%d%%)\" % (companyName, i+1,companiesCount,((i+1)*100/companiesCount)))\n",
    "        driver.get(company['Link'])\n",
    "        WebDriverWait(driver, timeout=30).until(lambda x: x.find_element_by_id('react-select-2--value-item').is_displayed())\n",
    "        driver.find_element_by_css_selector('input[type=checkbox]').click()\n",
    "        driver.find_element_by_css_selector('.reactable-column-header th:nth-child(2)').click()\n",
    "        firstOption = getFirstOption()\n",
    "        currentTime = logTime(startTime, currentTime); print(\"Periods available: %d\" % (optionTotalCount- firstOption))\n",
    "        currentTime = logTime(startTime, currentTime); \n",
    "        for currentOption in range(firstOption, optionTotalCount):\n",
    "            optionName = optionNames[currentOption]\n",
    "            selectOption(currentOption)\n",
    "            companyProblems = getCompanyProblems()\n",
    "            print(\"%s: %d | \" % (optionName, len(companyProblems)), end='')\n",
    "            export(companyProblems, companyName + '-' + optionName, 'Company_Problems/Period-wise/' + optionName)\n",
    "            export(companyProblems, companyName + '-' + optionName, 'Company_Problems/Name-wise/' + companyName)\n",
    "        print()\n",
    "    currentTime = logTime(startTime, currentTime); print(\"Exported Problems of %d Companies (100%%)\" % companiesCount)"
   ]
  },
  {
   "cell_type": "code",
   "execution_count": 13,
   "metadata": {},
   "outputs": [],
   "source": [
    "def openAndExportAllInterviews():\n",
    "    url = 'https://leetcode.com/explore/interview/'\n",
    "    driver.get(url)\n",
    "    WebDriverWait(driver, timeout=5).until(lambda x: x.find_element_by_class_name('explore-card').is_displayed())\n",
    "    script = '''\n",
    "const cards = Array.from(document.querySelectorAll('.explore-card .premium')).map(e => e.closest('.explore-card'))\n",
    "const interviews = [];\n",
    "for (const card of cards) {\n",
    "  const interview = [];\n",
    "  interview.push(card.querySelector('.title').innerText.trim());\n",
    "  interview.push(card.querySelector('.chapter').innerText.trim());\n",
    "  interview.push(card.querySelector('.item').innerText.trim());\n",
    "  interview.push(card.querySelector('a').href);\n",
    "  interviews.push(interview);\n",
    "}\n",
    "return interviews;\n",
    "    '''\n",
    "    interviewsData = driver.execute_script(script)\n",
    "    interviews = pd.DataFrame(interviewsData, columns = ['Title','Chapters','Problems','Link'])\n",
    "    interviews.index = interviews.index + 1\n",
    "    interviews.index.name = 'Serial'\n",
    "    export(interviews, 'Interviews')\n",
    "    print(\"Exported %d Interviews (100%%)\" % len(interviews))\n",
    "    return interviews"
   ]
  },
  {
   "cell_type": "code",
   "execution_count": 14,
   "metadata": {},
   "outputs": [],
   "source": [
    "def joinProblemDetails(problem):\n",
    "    problem['Id'] = None\n",
    "    cols = ['Acceptance','Difficulty','Frequency','Link']\n",
    "    for col in cols:\n",
    "        problem[col] = None\n",
    "    try:\n",
    "        problem['Id'] = allProblemsByTitle.loc[problem['Problem']]['Id']\n",
    "        for col in cols:\n",
    "            problem[col] = allProblems.loc[problem['Id']][col]\n",
    "    except:\n",
    "        pass\n",
    "    return problem"
   ]
  },
  {
   "cell_type": "code",
   "execution_count": 15,
   "metadata": {},
   "outputs": [],
   "source": [
    "def getInterviewProblems():\n",
    "    script = '''\n",
    "const tables = document.getElementsByClassName('table-base');\n",
    "const problems = [];\n",
    "for (let i = 1; i <= tables.length; i++) {\n",
    "  const table = tables[i-1];\n",
    "  const chapterTitle = table.querySelector('.chapter-title').innerText.trim();\n",
    "  const items = table.querySelectorAll('*[title=\"Coding Question\"] ~ span');\n",
    "  for (let j = 1; j <= items.length; j++) {\n",
    "  const item = items[j-1];\n",
    "    const itemTitle = item.innerText.trim();\n",
    "    problems.push([i, chapterTitle, j, itemTitle]);\n",
    "  }\n",
    "}\n",
    "return problems\n",
    "    '''\n",
    "    interviewProblemsData = driver.execute_script(script)\n",
    "    interviewProblems = pd.DataFrame(interviewProblemsData, columns = ['ChapterSerial','Chapter','ProblemSerial','Problem'])\n",
    "    interviewProblems = interviewProblems.apply(joinProblemDetails, axis=1)\n",
    "    interviewProblems = interviewProblems.set_index('ChapterSerial')\n",
    "    return interviewProblems"
   ]
  },
  {
   "cell_type": "code",
   "execution_count": 16,
   "metadata": {},
   "outputs": [],
   "source": [
    "def openAndExportAllInterviewProblems():\n",
    "    startTime = time.time()\n",
    "    currentTime = startTime\n",
    "    interviewsCount = len(allInterviews)\n",
    "    currentTime = logTime(startTime, currentTime); print(\"Total interviews: %d\" % interviewsCount)\n",
    "    for i in range(interviewsCount):\n",
    "        interview = allInterviews.iloc[i]\n",
    "        interviewTitle = interview['Title'].replace(' ','_')\n",
    "        currentTime = logTime(startTime, currentTime); print(\"Processing %s (%d/%d) (%d%%)\" % (interviewTitle, i+1,interviewsCount,((i+1)*100/interviewsCount)))\n",
    "        driver.get(interview['Link'])\n",
    "        WebDriverWait(driver, timeout=10).until(lambda x: str(len(x.find_elements_by_css_selector('.table-base .table-item'))) == interview['Problems'])\n",
    "        interviewProblems = getInterviewProblems()\n",
    "        currentTime = logTime(startTime, currentTime); print(\"Chapters: %s | Problems: %d\" % (interview['Chapters'], len(interviewProblems)))\n",
    "        export(interviewProblems, interviewTitle, 'Interview_Problems')\n",
    "        currentTime = logTime(startTime, currentTime); print(\"Exported Problems of %d Interviews (100%%)\" % interviewsCount)"
   ]
  },
  {
   "cell_type": "code",
   "execution_count": null,
   "metadata": {},
   "outputs": [],
   "source": []
  },
  {
   "cell_type": "code",
   "execution_count": 17,
   "metadata": {},
   "outputs": [],
   "source": [
    "driver = webdriver.Chrome('/usr/local/bin/chromedriver')"
   ]
  },
  {
   "cell_type": "code",
   "execution_count": 18,
   "metadata": {},
   "outputs": [],
   "source": [
    "login()"
   ]
  },
  {
   "cell_type": "code",
   "execution_count": 19,
   "metadata": {
    "tags": []
   },
   "outputs": [
    {
     "output_type": "stream",
     "name": "stdout",
     "text": "Exported 1579 Problems (100%)\n"
    }
   ],
   "source": [
    "allProblems = openAndExportAllProblems()"
   ]
  },
  {
   "cell_type": "code",
   "execution_count": 20,
   "metadata": {},
   "outputs": [],
   "source": [
    "allProblemsByTitle = getProblemsByTitle()"
   ]
  },
  {
   "cell_type": "code",
   "execution_count": 21,
   "metadata": {
    "tags": []
   },
   "outputs": [
    {
     "output_type": "stream",
     "name": "stdout",
     "text": "Exported 236 Companies (100%)\n"
    }
   ],
   "source": [
    "allCompanies = openAndExportAllCompanies()"
   ]
  },
  {
   "cell_type": "code",
   "execution_count": 22,
   "metadata": {
    "collapsed": true,
    "jupyter": {
     "outputs_hidden": true
    },
    "tags": [
     "outputPrepend"
    ]
   },
   "outputs": [
    {
     "output_type": "stream",
     "name": "stdout",
     "text": "Duration:00:00:01.00, Total:00:06:14.67] Periods available: 2\n[Duration:00:00:00.00, Total:00:06:14.67] 2_years: 1 | All_time: 2 | \n[Duration:00:00:00.00, Total:00:06:14.81] Processing GE_Digital (138/236) (58%)\n[Duration:00:00:02.00, Total:00:06:17.02] Periods available: 2\n[Duration:00:00:00.00, Total:00:06:17.02] 2_years: 1 | All_time: 2 | \n[Duration:00:00:00.00, Total:00:06:17.13] Processing infosys (139/236) (58%)\n[Duration:00:00:01.00, Total:00:06:19.08] Periods available: 1\n[Duration:00:00:00.00, Total:00:06:19.08] All_time: 2 | \n[Duration:00:00:00.00, Total:00:06:19.14] Processing Jane_Street (140/236) (59%)\n[Duration:00:00:03.00, Total:00:06:22.23] Periods available: 2\n[Duration:00:00:00.00, Total:00:06:22.23] 2_years: 1 | All_time: 2 | \n[Duration:00:00:00.00, Total:00:06:22.36] Processing Machine_Zone (141/236) (59%)\n[Duration:00:00:01.00, Total:00:06:24.31] Periods available: 1\n[Duration:00:00:00.00, Total:00:06:24.31] All_time: 2 | \n[Duration:00:00:00.00, Total:00:06:24.37] Processing Media.net (142/236) (60%)\n[Duration:00:00:01.00, Total:00:06:25.63] Periods available: 1\n[Duration:00:00:00.00, Total:00:06:25.63] All_time: 2 | \n[Duration:00:00:00.00, Total:00:06:25.69] Processing MindTickle (143/236) (60%)\n[Duration:00:00:02.00, Total:00:06:27.90] Periods available: 1\n[Duration:00:00:00.00, Total:00:06:27.90] All_time: 2 | \n[Duration:00:00:00.00, Total:00:06:27.97] Processing Netsuite (144/236) (61%)\n[Duration:00:00:01.00, Total:00:06:29.84] Periods available: 1\n[Duration:00:00:00.00, Total:00:06:29.84] All_time: 2 | \n[Duration:00:00:00.00, Total:00:06:29.90] Processing Opendoor (145/236) (61%)\n[Duration:00:00:02.00, Total:00:06:32.46] Periods available: 3\n[Duration:00:00:00.00, Total:00:06:32.46] 1_year: 1 | 2_years: 2 | All_time: 2 | \n[Duration:00:00:00.00, Total:00:06:32.66] Processing Poshmark (146/236) (61%)\n[Duration:00:00:02.00, Total:00:06:34.70] Periods available: 1\n[Duration:00:00:00.00, Total:00:06:34.70] All_time: 2 | \n[Duration:00:00:00.00, Total:00:06:34.76] Processing Radius (147/236) (62%)\n[Duration:00:00:02.00, Total:00:06:37.49] Periods available: 2\n[Duration:00:00:00.00, Total:00:06:37.49] 2_years: 1 | All_time: 2 | \n[Duration:00:00:00.00, Total:00:06:37.63] Processing Startup (148/236) (62%)\n[Duration:00:00:02.00, Total:00:06:39.85] Periods available: 1\n[Duration:00:00:00.00, Total:00:06:39.85] All_time: 2 | \n[Duration:00:00:00.00, Total:00:06:39.91] Processing Turvo (149/236) (63%)\n[Duration:00:00:02.00, Total:00:06:42.57] Periods available: 1\n[Duration:00:00:00.00, Total:00:06:42.57] All_time: 2 | \n[Duration:00:00:00.00, Total:00:06:42.62] Processing Uipath (150/236) (63%)\n[Duration:00:00:01.00, Total:00:06:44.22] Periods available: 1\n[Duration:00:00:00.00, Total:00:06:44.22] All_time: 2 | \n[Duration:00:00:00.00, Total:00:06:44.27] Processing United_Health_Group (151/236) (63%)\n[Duration:00:00:01.00, Total:00:06:46.10] Periods available: 1\n[Duration:00:00:00.00, Total:00:06:46.10] All_time: 2 | \n[Duration:00:00:00.00, Total:00:06:46.15] Processing Valve (152/236) (64%)\n[Duration:00:00:01.00, Total:00:06:47.97] Periods available: 2\n[Duration:00:00:00.00, Total:00:06:47.97] 2_years: 1 | All_time: 2 | \n[Duration:00:00:00.00, Total:00:06:48.11] Processing Zappos (153/236) (64%)\n[Duration:00:00:01.00, Total:00:06:49.48] Periods available: 3\n[Duration:00:00:00.00, Total:00:06:49.48] 1_year: 1 | 2_years: 1 | All_time: 2 | \n[Duration:00:00:00.00, Total:00:06:49.67] Processing Zynga (154/236) (65%)\n[Duration:00:00:01.00, Total:00:06:51.43] Periods available: 2\n[Duration:00:00:00.00, Total:00:06:51.43] 2_years: 2 | All_time: 2 | \n[Duration:00:00:00.00, Total:00:06:51.55] Processing 23&me (155/236) (65%)\n[Duration:00:00:01.00, Total:00:06:53.45] Periods available: 1\n[Duration:00:00:00.00, Total:00:06:53.45] All_time: 1 | \n[Duration:00:00:00.00, Total:00:06:53.52] Processing Accolite (156/236) (66%)\n[Duration:00:00:01.00, Total:00:06:54.74] Periods available: 1\n[Duration:00:00:00.00, Total:00:06:54.74] All_time: 1 | \n[Duration:00:00:00.00, Total:00:06:54.79] Processing Activevideo (157/236) (66%)\n[Duration:00:00:02.00, Total:00:06:57.06] Periods available: 1\n[Duration:00:00:00.00, Total:00:06:57.06] All_time: 1 | \n[Duration:00:00:00.00, Total:00:06:57.13] Processing Affinity (158/236) (66%)\n[Duration:00:00:01.00, Total:00:06:58.50] Periods available: 1\n[Duration:00:00:00.00, Total:00:06:58.50] All_time: 1 | \n[Duration:00:00:00.00, Total:00:06:58.56] Processing Airtel (159/236) (67%)\n[Duration:00:00:01.00, Total:00:07:00.33] Periods available: 1\n[Duration:00:00:00.00, Total:00:07:00.33] All_time: 1 | \n[Duration:00:00:00.00, Total:00:07:00.39] Processing Ajira (160/236) (67%)\n[Duration:00:00:01.00, Total:00:07:01.68] Periods available: 1\n[Duration:00:00:00.00, Total:00:07:01.68] All_time: 1 | \n[Duration:00:00:00.00, Total:00:07:01.74] Processing akamai (161/236) (68%)\n[Duration:00:00:01.00, Total:00:07:03.21] Periods available: 1\n[Duration:00:00:00.00, Total:00:07:03.21] All_time: 1 | \n[Duration:00:00:00.00, Total:00:07:03.28] Processing Akuna (162/236) (68%)\n[Duration:00:00:01.00, Total:00:07:04.54] Periods available: 1\n[Duration:00:00:00.00, Total:00:07:04.54] All_time: 1 | \n[Duration:00:00:00.00, Total:00:07:04.60] Processing Arcesium (163/236) (69%)\n[Duration:00:00:01.00, Total:00:07:05.87] Periods available: 1\n[Duration:00:00:00.00, Total:00:07:05.87] All_time: 1 | \n[Duration:00:00:00.00, Total:00:07:05.93] Processing Arista (164/236) (69%)\n[Duration:00:00:01.00, Total:00:07:07.31] Periods available: 1\n[Duration:00:00:00.00, Total:00:07:07.31] All_time: 1 | \n[Duration:00:00:00.00, Total:00:07:07.37] Processing Blizzard (165/236) (69%)\n[Duration:00:00:01.00, Total:00:07:08.73] Periods available: 2\n[Duration:00:00:00.00, Total:00:07:08.73] 2_years: 1 | All_time: 1 | \n[Duration:00:00:00.00, Total:00:07:08.87] Processing Bloomreach (166/236) (70%)\n[Duration:00:00:01.00, Total:00:07:10.66] Periods available: 1\n[Duration:00:00:00.00, Total:00:07:10.66] All_time: 1 | \n[Duration:00:00:00.00, Total:00:07:10.73] Processing BNY_Mellon (167/236) (70%)\n[Duration:00:00:01.00, Total:00:07:12.45] Periods available: 1\n[Duration:00:00:00.00, Total:00:07:12.45] All_time: 1 | \n[Duration:00:00:00.00, Total:00:07:12.50] Processing Booking (168/236) (71%)\n[Duration:00:00:01.00, Total:00:07:14.33] Periods available: 1\n[Duration:00:00:00.00, Total:00:07:14.33] All_time: 1 | \n[Duration:00:00:00.00, Total:00:07:14.39] Processing Brillio (169/236) (71%)\n[Duration:00:00:01.00, Total:00:07:15.81] Periods available: 1\n[Duration:00:00:00.00, Total:00:07:15.82] All_time: 1 | \n[Duration:00:00:00.00, Total:00:07:15.89] Processing ByteDance(Toutiao) (170/236) (72%)\n[Duration:00:00:01.00, Total:00:07:17.16] Periods available: 1\n[Duration:00:00:00.00, Total:00:07:17.16] All_time: 1 | \n[Duration:00:00:00.00, Total:00:07:17.22] Processing CasaOne (171/236) (72%)\n[Duration:00:00:01.00, Total:00:07:18.67] Periods available: 1\n[Duration:00:00:00.00, Total:00:07:18.67] All_time: 1 | \n[Duration:00:00:00.00, Total:00:07:18.74] Processing clutter (172/236) (72%)\n[Duration:00:00:01.00, Total:00:07:20.06] Periods available: 1\n[Duration:00:00:00.00, Total:00:07:20.06] All_time: 1 | \n[Duration:00:00:00.00, Total:00:07:20.12] Processing Codenation (173/236) (73%)\n[Duration:00:00:01.00, Total:00:07:21.77] Periods available: 1\n[Duration:00:00:00.00, Total:00:07:21.77] All_time: 1 | \n[Duration:00:00:00.00, Total:00:07:21.84] Processing DeliveryHero (174/236) (73%)\n[Duration:00:00:01.00, Total:00:07:23.35] Periods available: 1\n[Duration:00:00:00.00, Total:00:07:23.35] All_time: 1 | \n[Duration:00:00:00.00, Total:00:07:23.42] Processing DJI (175/236) (74%)\n[Duration:00:00:01.00, Total:00:07:24.70] Periods available: 1\n[Duration:00:00:00.00, Total:00:07:24.70] All_time: 1 | \n[Duration:00:00:00.00, Total:00:07:24.77] Processing Dosh (176/236) (74%)\n[Duration:00:00:01.00, Total:00:07:26.10] Periods available: 1\n[Duration:00:00:00.00, Total:00:07:26.10] All_time: 1 | \n[Duration:00:00:00.00, Total:00:07:26.16] Processing Dream11 (177/236) (75%)\n[Duration:00:00:01.00, Total:00:07:27.55] Periods available: 1\n[Duration:00:00:00.00, Total:00:07:27.55] All_time: 1 | \n[Duration:00:00:00.00, Total:00:07:27.62] Processing druva (178/236) (75%)\n[Duration:00:00:01.00, Total:00:07:28.87] Periods available: 1\n[Duration:00:00:00.00, Total:00:07:28.87] All_time: 1 | \n[Duration:00:00:00.00, Total:00:07:28.94] Processing DRW (179/236) (75%)\n[Duration:00:00:01.00, Total:00:07:30.29] Periods available: 1\n[Duration:00:00:00.00, Total:00:07:30.29] All_time: 1 | \n[Duration:00:00:00.00, Total:00:07:30.36] Processing EMC (180/236) (76%)\n[Duration:00:00:01.00, Total:00:07:32.29] Periods available: 2\n[Duration:00:00:00.00, Total:00:07:32.29] 2_years: 1 | All_time: 1 | \n[Duration:00:00:00.00, Total:00:07:32.43] Processing F5_Networks (181/236) (76%)\n[Duration:00:00:02.00, Total:00:07:34.91] Periods available: 1\n[Duration:00:00:00.00, Total:00:07:34.91] All_time: 1 | \n[Duration:00:00:00.00, Total:00:07:34.97] Processing Fallible (182/236) (77%)\n[Duration:00:00:01.00, Total:00:07:36.29] Periods available: 1\n[Duration:00:00:00.00, Total:00:07:36.29] All_time: 1 | \n[Duration:00:00:00.00, Total:00:07:36.35] Processing Fidessa (183/236) (77%)\n[Duration:00:00:01.00, Total:00:07:37.77] Periods available: 1\n[Duration:00:00:00.00, Total:00:07:37.77] All_time: 1 | \n[Duration:00:00:00.00, Total:00:07:37.83] Processing Flexport (184/236) (77%)\n[Duration:00:00:01.00, Total:00:07:39.13] Periods available: 1\n[Duration:00:00:00.00, Total:00:07:39.13] All_time: 1 | \n[Duration:00:00:00.00, Total:00:07:39.19] Processing Gilt_Groupe (185/236) (78%)\n[Duration:00:00:01.00, Total:00:07:40.99] Periods available: 1\n[Duration:00:00:00.00, Total:00:07:40.99] All_time: 1 | \n[Duration:00:00:00.00, Total:00:07:41.06] Processing Hackerrank (186/236) (78%)\n[Duration:00:00:01.00, Total:00:07:42.43] Periods available: 1\n[Duration:00:00:00.00, Total:00:07:42.43] All_time: 1 | \n[Duration:00:00:00.00, Total:00:07:42.49] Processing Helix (187/236) (79%)\n[Duration:00:00:01.00, Total:00:07:43.74] Periods available: 1\n[Duration:00:00:00.00, Total:00:07:43.74] All_time: 1 | \n[Duration:00:00:00.00, Total:00:07:43.81] Processing honey (188/236) (79%)\n[Duration:00:00:01.00, Total:00:07:45.14] Periods available: 1\n[Duration:00:00:00.00, Total:00:07:45.14] All_time: 1 | \n[Duration:00:00:00.00, Total:00:07:45.21] Processing Hotstar (189/236) (80%)\n[Duration:00:00:01.00, Total:00:07:47.15] Periods available: 1\n[Duration:00:00:00.00, Total:00:07:47.15] All_time: 1 | \n[Duration:00:00:00.00, Total:00:07:47.22] Processing HTC (190/236) (80%)\n[Duration:00:00:01.00, Total:00:07:49.03] Periods available: 2\n[Duration:00:00:00.00, Total:00:07:49.03] 2_years: 1 | All_time: 1 | \n[Duration:00:00:00.00, Total:00:07:49.17] Processing IIT_Bombay (191/236) (80%)\n[Duration:00:00:01.00, Total:00:07:50.93] Periods available: 1\n[Duration:00:00:00.00, Total:00:07:50.93] All_time: 1 | \n[Duration:00:00:00.00, Total:00:07:51.00] Processing InMobi (192/236) (81%)\n[Duration:00:00:01.00, Total:00:07:52.48] Periods available: 1\n[Duration:00:00:00.00, Total:00:07:52.48] All_time: 1 | \n[Duration:00:00:00.00, Total:00:07:52.54] Processing Jingchi (193/236) (81%)\n[Duration:00:00:02.00, Total:00:07:54.58] Periods available: 1\n[Duration:00:00:00.00, Total:00:07:54.58] All_time: 1 | \n[Duration:00:00:00.00, Total:00:07:54.65] Processing JP_Morgan (194/236) (82%)\n[Duration:00:00:01.00, Total:00:07:56.40] Periods available: 1\n[Duration:00:00:00.00, Total:00:07:56.40] All_time: 1 | \n[Duration:00:00:00.00, Total:00:07:56.46] Processing JP_Morgan_Chase (195/236) (82%)\n[Duration:00:00:02.00, Total:00:07:58.56] Periods available: 1\n[Duration:00:00:00.00, Total:00:07:58.56] All_time: 1 | \n[Duration:00:00:00.00, Total:00:07:58.62] Processing Jump_Trading (196/236) (83%)\n[Duration:00:00:02.00, Total:00:08:01.13] Periods available: 2\n[Duration:00:00:00.00, Total:00:08:01.13] 2_years: 1 | All_time: 1 | \n[Duration:00:00:00.00, Total:00:08:01.27] Processing Kakao (197/236) (83%)\n[Duration:00:00:01.00, Total:00:08:02.75] Periods available: 1\n[Duration:00:00:00.00, Total:00:08:02.75] All_time: 1 | \n[Duration:00:00:00.00, Total:00:08:02.81] Processing Leap_Motion (198/236) (83%)\n[Duration:00:00:01.00, Total:00:08:04.80] Periods available: 1\n[Duration:00:00:00.00, Total:00:08:04.80] All_time: 1 | \n[Duration:00:00:00.00, Total:00:08:04.87] Processing LimeBike (199/236) (84%)\n[Duration:00:00:01.00, Total:00:08:06.34] Periods available: 1\n[Duration:00:00:00.00, Total:00:08:06.34] All_time: 1 | \n[Duration:00:00:00.00, Total:00:08:06.41] Processing MachineZone (200/236) (84%)\n[Duration:00:00:01.00, Total:00:08:07.77] Periods available: 1\n[Duration:00:00:00.00, Total:00:08:07.77] All_time: 1 | \n[Duration:00:00:00.00, Total:00:08:07.84] Processing Mapbox (201/236) (85%)\n[Duration:00:00:01.00, Total:00:08:09.09] Periods available: 1\n[Duration:00:00:00.00, Total:00:08:09.09] All_time: 1 | \n[Duration:00:00:00.00, Total:00:08:09.16] Processing MAQ_Software (202/236) (85%)\n[Duration:00:00:02.00, Total:00:08:11.22] Periods available: 1\n[Duration:00:00:00.00, Total:00:08:11.22] All_time: 1 | \n[Duration:00:00:00.00, Total:00:08:11.29] Processing McKinsey (203/236) (86%)\n[Duration:00:00:01.00, Total:00:08:12.88] Periods available: 1\n[Duration:00:00:00.00, Total:00:08:12.88] All_time: 1 | \n[Duration:00:00:00.00, Total:00:08:12.95] Processing Microstrategy (204/236) (86%)\n[Duration:00:00:01.00, Total:00:08:14.77] Periods available: 1\n[Duration:00:00:00.00, Total:00:08:14.77] All_time: 1 | \n[Duration:00:00:00.00, Total:00:08:14.83] Processing National_Instruments (205/236) (86%)\n[Duration:00:00:01.00, Total:00:08:16.37] Periods available: 1\n[Duration:00:00:00.00, Total:00:08:16.37] All_time: 1 | \n[Duration:00:00:00.00, Total:00:08:16.44] Processing Nuro (206/236) (87%)\n[Duration:00:00:01.00, Total:00:08:18.26] Periods available: 1\n[Duration:00:00:00.00, Total:00:08:18.26] All_time: 1 | \n[Duration:00:00:00.00, Total:00:08:18.33] Processing Oasis_Labs (207/236) (87%)\n[Duration:00:00:01.00, Total:00:08:19.75] Periods available: 1\n[Duration:00:00:00.00, Total:00:08:19.75] All_time: 1 | \n[Duration:00:00:00.00, Total:00:08:19.82] Processing Optum (208/236) (88%)\n[Duration:00:00:01.00, Total:00:08:21.08] Periods available: 1\n[Duration:00:00:00.00, Total:00:08:21.08] All_time: 1 | \n[Duration:00:00:00.00, Total:00:08:21.15] Processing OT (209/236) (88%)\n[Duration:00:00:02.00, Total:00:08:23.21] Periods available: 1\n[Duration:00:00:00.00, Total:00:08:23.21] All_time: 1 | \n[Duration:00:00:00.00, Total:00:08:23.27] Processing Palantir (210/236) (88%)\n[Duration:00:00:02.00, Total:00:08:25.72] Periods available: 1\n[Duration:00:00:00.00, Total:00:08:25.72] All_time: 1 | \n[Duration:00:00:00.00, Total:00:08:25.78] Processing PayTM (211/236) (89%)\n[Duration:00:00:01.00, Total:00:08:27.23] Periods available: 1\n[Duration:00:00:00.00, Total:00:08:27.23] All_time: 1 | \n[Duration:00:00:00.00, Total:00:08:27.29] Processing PHONEPE (212/236) (89%)\n[Duration:00:00:01.00, Total:00:08:29.17] Periods available: 1\n[Duration:00:00:00.00, Total:00:08:29.17] All_time: 1 | \n[Duration:00:00:00.00, Total:00:08:29.24] Processing Postman (213/236) (90%)\n[Duration:00:00:02.00, Total:00:08:31.24] Periods available: 1\n[Duration:00:00:00.00, Total:00:08:31.24] All_time: 1 | \n[Duration:00:00:00.00, Total:00:08:31.30] Processing Poynt (214/236) (90%)\n[Duration:00:00:01.00, Total:00:08:32.68] Periods available: 1\n[Duration:00:00:00.00, Total:00:08:32.68] All_time: 1 | \n[Duration:00:00:00.00, Total:00:08:32.74] Processing pramp (215/236) (91%)\n[Duration:00:00:01.00, Total:00:08:34.07] Periods available: 1\n[Duration:00:00:00.00, Total:00:08:34.07] All_time: 1 | \n[Duration:00:00:00.00, Total:00:08:34.13] Processing Quantcast (216/236) (91%)\n[Duration:00:00:01.00, Total:00:08:35.42] Periods available: 2\n[Duration:00:00:00.00, Total:00:08:35.42] 2_years: 1 | All_time: 1 | \n[Duration:00:00:00.00, Total:00:08:35.56] Processing Quble (217/236) (91%)\n[Duration:00:00:01.00, Total:00:08:36.95] Periods available: 1\n[Duration:00:00:00.00, Total:00:08:36.95] All_time: 1 | \n[Duration:00:00:00.00, Total:00:08:37.02] Processing Rackspace (218/236) (92%)\n[Duration:00:00:01.00, Total:00:08:38.39] Periods available: 1\n[Duration:00:00:00.00, Total:00:08:38.39] All_time: 1 | \n[Duration:00:00:00.00, Total:00:08:38.46] Processing Rupeek (219/236) (92%)\n[Duration:00:00:02.00, Total:00:08:40.92] Periods available: 1\n[Duration:00:00:00.00, Total:00:08:40.92] All_time: 1 | \n[Duration:00:00:00.00, Total:00:08:40.98] Processing Sapient (220/236) (93%)\n[Duration:00:00:02.00, Total:00:08:43.61] Periods available: 1\n[Duration:00:00:00.00, Total:00:08:43.61] All_time: 1 | \n[Duration:00:00:00.00, Total:00:08:43.68] Processing snapdeal (221/236) (93%)\n[Duration:00:00:01.00, Total:00:08:45.05] Periods available: 1\n[Duration:00:00:00.00, Total:00:08:45.05] All_time: 1 | \n[Duration:00:00:00.00, Total:00:08:45.12] Processing SoundHound (222/236) (94%)\n[Duration:00:00:01.00, Total:00:08:46.58] Periods available: 1\n[Duration:00:00:00.00, Total:00:08:46.58] All_time: 1 | \n[Duration:00:00:00.00, Total:00:08:46.65] Processing Sumerge (223/236) (94%)\n[Duration:00:00:01.00, Total:00:08:48.01] Periods available: 1\n[Duration:00:00:00.00, Total:00:08:48.01] All_time: 1 | \n[Duration:00:00:00.00, Total:00:08:48.08] Processing Swiggy (224/236) (94%)\n[Duration:00:00:01.00, Total:00:08:49.45] Periods available: 1\n[Duration:00:00:00.00, Total:00:08:49.45] All_time: 1 | \n[Duration:00:00:00.00, Total:00:08:49.51] Processing Symantec (225/236) (95%)\n[Duration:00:00:01.00, Total:00:08:51.47] Periods available: 2\n[Duration:00:00:00.00, Total:00:08:51.47] 2_years: 1 | All_time: 1 | \n[Duration:00:00:00.00, Total:00:08:51.61] Processing TandemG (226/236) (95%)\n[Duration:00:00:01.00, Total:00:08:53.15] Periods available: 1\n[Duration:00:00:00.00, Total:00:08:53.15] All_time: 1 | \n[Duration:00:00:00.00, Total:00:08:53.21] Processing Thumbtack (227/236) (96%)\n[Duration:00:00:01.00, Total:00:08:54.57] Periods available: 1\n[Duration:00:00:00.00, Total:00:08:54.57] All_time: 1 | \n[Duration:00:00:00.00, Total:00:08:54.64] Processing Toptal (228/236) (96%)\n[Duration:00:00:01.00, Total:00:08:56.45] Periods available: 1\n[Duration:00:00:00.00, Total:00:08:56.45] All_time: 1 | \n[Duration:00:00:00.00, Total:00:08:56.52] Processing Traveloka (229/236) (97%)\n[Duration:00:00:01.00, Total:00:08:57.95] Periods available: 1\n[Duration:00:00:00.00, Total:00:08:57.95] All_time: 1 | \n[Duration:00:00:00.00, Total:00:08:58.01] Processing tsys (230/236) (97%)\n[Duration:00:00:01.00, Total:00:08:59.31] Periods available: 1\n[Duration:00:00:00.00, Total:00:08:59.31] All_time: 1 | \n[Duration:00:00:00.00, Total:00:08:59.37] Processing Unacademy (231/236) (97%)\n[Duration:00:00:01.00, Total:00:09:00.66] Periods available: 1\n[Duration:00:00:00.00, Total:00:09:00.66] All_time: 1 | \n[Duration:00:00:00.00, Total:00:09:00.72] Processing Walmart (232/236) (98%)\n[Duration:00:00:01.00, Total:00:09:02.66] Periods available: 1\n[Duration:00:00:00.00, Total:00:09:02.66] All_time: 1 | \n[Duration:00:00:00.00, Total:00:09:02.73] Processing Whole_Foods_Market (233/236) (98%)\n[Duration:00:00:01.00, Total:00:09:04.00] Periods available: 1\n[Duration:00:00:00.00, Total:00:09:04.00] All_time: 1 | \n[Duration:00:00:00.00, Total:00:09:04.07] Processing Yatra (234/236) (99%)\n[Duration:00:00:01.00, Total:00:09:05.38] Periods available: 1\n[Duration:00:00:00.00, Total:00:09:05.38] All_time: 1 | \n[Duration:00:00:00.00, Total:00:09:05.45] Processing zalando (235/236) (99%)\n[Duration:00:00:01.00, Total:00:09:06.86] Periods available: 1\n[Duration:00:00:00.00, Total:00:09:06.86] All_time: 1 | \n[Duration:00:00:00.00, Total:00:09:06.93] Processing zscaler (236/236) (100%)\n[Duration:00:00:01.00, Total:00:09:08.80] Periods available: 1\n[Duration:00:00:00.00, Total:00:09:08.80] All_time: 1 | \n[Duration:00:00:00.00, Total:00:09:08.87] Exported Problems of 236 Companies (100%)\n"
    }
   ],
   "source": [
    "openAndExportAllCompanyProblems()"
   ]
  },
  {
   "cell_type": "code",
   "execution_count": 23,
   "metadata": {
    "tags": []
   },
   "outputs": [
    {
     "output_type": "stream",
     "name": "stdout",
     "text": "Exported 10 Interviews (100%)\n"
    }
   ],
   "source": [
    "allInterviews = openAndExportAllInterviews()"
   ]
  },
  {
   "cell_type": "code",
   "execution_count": 24,
   "metadata": {
    "tags": []
   },
   "outputs": [
    {
     "output_type": "stream",
     "name": "stdout",
     "text": "[Duration:00:00:00.00, Total:00:00:00.00] Total interviews: 10\n[Duration:00:00:00.00, Total:00:00:00.00] Processing Google_Interview (1/10) (10%)\n[Duration:00:00:03.00, Total:00:00:03.89] Chapters: 9 | Problems: 81\n[Duration:00:00:00.00, Total:00:00:03.89] Exported Problems of 10 Interviews (100%)\n[Duration:00:00:00.00, Total:00:00:03.89] Processing Facebook (2/10) (20%)\n[Duration:00:00:03.00, Total:00:00:07.58] Chapters: 9 | Problems: 79\n[Duration:00:00:00.00, Total:00:00:07.58] Exported Problems of 10 Interviews (100%)\n[Duration:00:00:00.00, Total:00:00:07.58] Processing Microsoft (3/10) (30%)\n[Duration:00:00:03.00, Total:00:00:10.62] Chapters: 8 | Problems: 58\n[Duration:00:00:00.00, Total:00:00:10.62] Exported Problems of 10 Interviews (100%)\n[Duration:00:00:00.00, Total:00:00:10.62] Processing Amazon (4/10) (40%)\n[Duration:00:00:03.00, Total:00:00:13.72] Chapters: 8 | Problems: 68\n[Duration:00:00:00.00, Total:00:00:13.72] Exported Problems of 10 Interviews (100%)\n[Duration:00:00:00.00, Total:00:00:13.72] Processing Apple_Interview (5/10) (50%)\n[Duration:00:00:03.00, Total:00:00:17.60] Chapters: 8 | Problems: 62\n[Duration:00:00:00.00, Total:00:00:17.60] Exported Problems of 10 Interviews (100%)\n[Duration:00:00:00.00, Total:00:00:17.60] Processing Adobe_Interview (6/10) (60%)\n[Duration:00:00:04.00, Total:00:00:21.96] Chapters: 9 | Problems: 55\n[Duration:00:00:00.00, Total:00:00:21.96] Exported Problems of 10 Interviews (100%)\n[Duration:00:00:00.00, Total:00:00:21.96] Processing Bloomberg (7/10) (70%)\n[Duration:00:00:03.00, Total:00:00:24.97] Chapters: 8 | Problems: 46\n[Duration:00:00:00.00, Total:00:00:24.97] Exported Problems of 10 Interviews (100%)\n[Duration:00:00:00.00, Total:00:00:24.97] Processing Uber_Interview (8/10) (80%)\n[Duration:00:00:02.00, Total:00:00:27.95] Chapters: 9 | Problems: 52\n[Duration:00:00:00.00, Total:00:00:27.95] Exported Problems of 10 Interviews (100%)\n[Duration:00:00:00.00, Total:00:00:27.96] Processing Yelp (9/10) (90%)\n[Duration:00:00:03.00, Total:00:00:31.05] Chapters: 8 | Problems: 42\n[Duration:00:00:00.00, Total:00:00:31.05] Exported Problems of 10 Interviews (100%)\n[Duration:00:00:00.00, Total:00:00:31.05] Processing LinkedIn (10/10) (100%)\n[Duration:00:00:02.00, Total:00:00:33.49] Chapters: 7 | Problems: 49\n[Duration:00:00:00.00, Total:00:00:33.49] Exported Problems of 10 Interviews (100%)\n"
    }
   ],
   "source": [
    "openAndExportAllInterviewProblems()"
   ]
  },
  {
   "cell_type": "code",
   "execution_count": 25,
   "metadata": {},
   "outputs": [],
   "source": [
    "driver.quit()"
   ]
  },
  {
   "cell_type": "code",
   "execution_count": null,
   "metadata": {},
   "outputs": [],
   "source": []
  },
  {
   "cell_type": "code",
   "execution_count": null,
   "metadata": {},
   "outputs": [],
   "source": []
  },
  {
   "cell_type": "code",
   "execution_count": null,
   "metadata": {},
   "outputs": [],
   "source": []
  }
 ],
 "metadata": {
  "kernelspec": {
   "display_name": "Python 3",
   "language": "python",
   "name": "python3"
  },
  "language_info": {
   "codemirror_mode": {
    "name": "ipython",
    "version": 3
   },
   "file_extension": ".py",
   "mimetype": "text/x-python",
   "name": "python",
   "nbconvert_exporter": "python",
   "pygments_lexer": "ipython3",
   "version": "3.7.6-final"
  }
 },
 "nbformat": 4,
 "nbformat_minor": 4
}